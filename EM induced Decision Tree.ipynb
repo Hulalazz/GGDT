{
 "cells": [
  {
   "cell_type": "markdown",
   "metadata": {},
   "source": [
    "## Expectation Maximization Method\n",
    "\n",
    "Each iteration of the **EM** algorithm consists of an expectation step (E-step) and a maximization step (M-step)\n",
    "Specifically, let $\\theta^{(t)}$ be the current best guess at the MLE $\\hat\\theta$. The E-step\n",
    "is to compute the **Q** function defined by\n",
    "$$\n",
    "\\begin{align}\n",
    "Q(\\theta|\\theta^{(t)})\n",
    "        & \\stackrel{\\triangle}= \\mathbb{E}(\\ell(\\theta | Y_{obs}, Z) |Y_{obs}, \\theta^{(t)}) \\\\\n",
    "        &= \\int_{Z}\\ell(\\theta | Y_{obs}, Z)\\times f(z | Y_{obs}, \\theta^{(t)})\\mathrm{d}z,\n",
    "\\end{align}\n",
    "$$\n",
    "\n",
    "and the M-step is to maximize **Q** with respect to $\\theta$ to obtain\n",
    "\n",
    "$$\n",
    "\\theta^{(t+1)}=\\arg\\max_{\\theta} Q(\\theta|\\theta^{(t)}).\n",
    "$$\n",
    "\n",
    "\n"
   ]
  },
  {
   "cell_type": "markdown",
   "metadata": {},
   "source": [
    "## EM induced Decision Tree\n",
    "\n",
    "If the output is a probability given the input sample, we can introduce a EM induced decision tree.\n",
    "\n",
    "____\n",
    "- Input training data set $\\{(x_i, \\mathrm{y}_i)\\mid i=1, \\cdots, n\\}, x_i\\in\\mathcal x\\subset\\mathbb{R}^n, y_i\\in\\mathcal Y\\subset\\mathbb R$.\n",
    "- Initialize $f_0(x)=\\arg\\min_{\\gamma} L(\\mathrm{y}_i,\\gamma)$.\n",
    "- For $t = 1, 2, \\dots, T$:\n",
    "  - For $i = 1, 2,\\dots , n$ compute\n",
    "     $$r_{i,t}=\\theta^{(t)}.$$\n",
    "  - Fit a regression tree to the targets $r_{i,t}$ giving terminal regions$$R_{j,m}, j = 1, 2,\\dots , J_m. $$\n",
    "  - For $j = 1, 2,\\dots , J_m$ compute\n",
    "     $$\\gamma_{j,t}=\\arg\\min_{\\gamma}\\sum_{x_i\\in R_{j,m}}{L(\\mathrm{d}_i, f_{t-1}(x_i)+\\gamma)}. $$\n",
    "  - Update $f_t = {\\sum}_{j=1}^{J_m}{\\gamma}_{j, t} \\mathbb{I}(x\\in R_{j, m})$.\n",
    "- Output $f_T(x)$.\n",
    "\n",
    "Here the $\\theta^{(t)}$ is updated by EM methods given the inputs.\n",
    "\n",
    "- [NGBoost: Natural Gradient Boosting for Probabilistic Prediction, Tony Duan*, Anand Avati*, Daisy Yi Ding, Sanjay Basu, Andrew Ng, Alejandro Schuler](https://stanfordmlgroup.github.io/projects/ngboost/)"
   ]
  },
  {
   "cell_type": "code",
   "execution_count": null,
   "metadata": {},
   "outputs": [],
   "source": []
  }
 ],
 "metadata": {
  "kernelspec": {
   "display_name": "Python 3",
   "language": "python",
   "name": "python3"
  },
  "language_info": {
   "codemirror_mode": {
    "name": "ipython",
    "version": 3
   },
   "file_extension": ".py",
   "mimetype": "text/x-python",
   "name": "python",
   "nbconvert_exporter": "python",
   "pygments_lexer": "ipython3",
   "version": "3.7.3"
  }
 },
 "nbformat": 4,
 "nbformat_minor": 2
}
